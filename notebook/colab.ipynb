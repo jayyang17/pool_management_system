{
 "cells": [
  {
   "cell_type": "code",
   "execution_count": null,
   "metadata": {
    "vscode": {
     "languageId": "plaintext"
    }
   },
   "outputs": [],
   "source": [
    "import os"
   ]
  },
  {
   "cell_type": "code",
   "execution_count": null,
   "metadata": {
    "vscode": {
     "languageId": "plaintext"
    }
   },
   "outputs": [],
   "source": [
    "\n",
    "def sync_folder_from_s3(folder, aws_bucket_url):\n",
    "    command = f\"aws s3 sync {aws_bucket_url} {folder}\"\n",
    "    os.system(command)\n",
    "    print(f\"Synced folder '{folder}' from S3 bucket.\")\n",
    "\n",
    "# Set S3 bucket name and file path\n",
    "s3_bucket = \"poolmanagementsystem\"\n",
    "s3_file_path = \"raw_data/data.zip\"  # Path inside S3 bucket\n",
    "local_file_path = \"/content/data.zip\"  # Destination in Colab\n",
    "\n",
    "# Sync only the specific zip file from S3\n",
    "os.system(f\"aws s3 cp s3://{s3_bucket}/{s3_file_path} {local_file_path} --no-sign-request\")\n",
    "\n",
    "print(f\"✅ Downloaded {s3_file_path} from S3 to {local_file_path}\")\n"
   ]
  }
 ],
 "metadata": {
  "language_info": {
   "name": "python"
  }
 },
 "nbformat": 4,
 "nbformat_minor": 2
}
